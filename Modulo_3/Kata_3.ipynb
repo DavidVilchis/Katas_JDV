{
 "cells": [
  {
   "cell_type": "markdown",
   "metadata": {},
   "source": [
    "Para este ejercicio, escribirás una lógica condicional que imprima una advertencia si un asteroide se acerca a la Tierra demasiado rápido. La velocidad del asteroide varía dependiendo de lo cerca que esté del sol, y cualquier velocidad superior a 25 kilómetros por segundo (km/s) merece una advertencia."
   ]
  },
  {
   "cell_type": "code",
   "execution_count": 2,
   "metadata": {},
   "outputs": [
    {
     "name": "stdout",
     "output_type": "stream",
     "text": [
      "WARNING!\n",
      "Se acerca un asteroide a la tierra\n"
     ]
    }
   ],
   "source": [
    "velocidadAsteroide = int(input(\"Velocidad del asteroide: \"))\n",
    "if velocidadAsteroide > 25:\n",
    "    print(\"WARNING!\\nSe acerca un asteroide a la tierra\")"
   ]
  },
  {
   "cell_type": "markdown",
   "metadata": {},
   "source": [
    "Si un asteroide entra en la atmósfera de la Tierra a una velocidad mayor o igual a 20 km/s, a veces produce un rayo de luz que se puede ver desde la Tierra. Escribe la lógica condicional que usa declaraciones if, else, y elif para alertar a las personas de todo el mundo que deben buscar un asteroide en el cielo. ¡Hay uno que se dirige a la tierra ahora a una velocidad de 19 km/s!"
   ]
  },
  {
   "cell_type": "code",
   "execution_count": 3,
   "metadata": {},
   "outputs": [
    {
     "name": "stdout",
     "output_type": "stream",
     "text": [
      "No puede ser visible lo que es el asteroide :(\n"
     ]
    }
   ],
   "source": [
    "velocidadAsteroide = int(input(\"Velocidad del asteroide\"))\n",
    "if velocidadAsteroide >= 20:\n",
    "    print(\"WARNING!\\nHay un asteroide en el cielo, buscalo que es visible.\")\n",
    "else:\n",
    "    print(\"No puede ser visible lo que es el asteroide :(\")"
   ]
  },
  {
   "cell_type": "markdown",
   "metadata": {},
   "source": [
    "En este ejercicio, aprenderás información más matizada sobre cuándo los asteroides representan un peligro para la Tierra, y utilizarás esa información para mejorar nuestro sistema de advertencia. Aquí está la nueva información que necesitas saber:\n",
    "\n",
    "- Los asteroides de menos de 25 metros en su dimensión más grande probablemente se quemarán a medida que entren en la atmósfera de la Tierra.\n",
    "\n",
    "- Si una pieza de un asteroide que es más grande que 25 metros pero más pequeña que 1000 metros golpeara la Tierra, causaría mucho daño.\n",
    "\n",
    "También discutimos en el ejercicio anterior que:\n",
    "\n",
    "- La velocidad del asteroide varía en función de lo cerca que esté del sol, y cualquier velocidad superior a 25 kilómetros por segundo (km/s) merece una advertencia.\n",
    "- Si un asteroide entra en la atmósfera de la Tierra a una velocidad mayor o igual a 20 km/s, a veces produce un rayo de luz que se puede ver desde la Tierra.\n",
    "\n",
    "Usando toda esta información, escribe un programa que emita la advertencia o información correcta a la gente de la Tierra, según la velocidad y el tamaño de un asteroide. Utiliza instrucciones if, else, y elif, así como los operadores and y or."
   ]
  },
  {
   "cell_type": "code",
   "execution_count": 7,
   "metadata": {},
   "outputs": [
    {
     "name": "stdout",
     "output_type": "stream",
     "text": [
      "Es un asteroide con su rayo de luz visible en el cielo\n",
      "PELIGRO! \n",
      "Se acerca a una velocidad peligrosa\n",
      "Con gran daño para la tierra\n"
     ]
    }
   ],
   "source": [
    "velocidadAsteroide = int(input(\"Ingresa lo que es la velocidad del asteroide: \"))\n",
    "dimensionAstroide = int(input(\"Ingresa lo que es la dimension del asteroide: \"))\n",
    "if velocidadAsteroide >= 20:\n",
    "    print(\"Es un asteroide con su rayo de luz visible en el cielo\")\n",
    "    if velocidadAsteroide > 25:\n",
    "        print(\"PELIGRO!: Se acerca a una velocidad peligrosa\")\n",
    "        if dimensionAstroide < 25:\n",
    "            print(\"Con gran probabilidad de que se queme\")\n",
    "        elif dimensionAstroide > 25 and dimensionAstroide < 1000:\n",
    "            print(\"PELIGRO!: Con gran daño para la tierra\")\n",
    "        else:\n",
    "            print(\"Sin dato de gravedad\")\n",
    "    else:\n",
    "        print(\"Velocidad moderada\")\n",
    "        if dimensionAstroide < 25:\n",
    "            print(\"Con gran probabilidad de que se queme\")\n",
    "        elif dimensionAstroide > 25 and dimensionAstroide < 1000:\n",
    "            print(\"PELIGRO!: Con gran daño para la tierra\")\n",
    "        else:\n",
    "            print(\"Sin dato de gravedad\")\n",
    "else:\n",
    "    print(\"Es un asteroide que no dejara rastro en el cielo\")\n",
    "    if dimensionAstroide < 25:\n",
    "        print(\"Con gran probabilidad de que se queme\")\n",
    "    elif dimensionAstroide > 25 and dimensionAstroide < 1000:\n",
    "        print(\"PELIGRO!: Con gran daño para la tierra\")\n",
    "    else:\n",
    "        print(\"Sin dato de gravedad\")\n"
   ]
  }
 ],
 "metadata": {
  "interpreter": {
   "hash": "1b02e44bf1a16baf0831cffa763f761b8c1eff9c5015e8c3d8e65db74981164b"
  },
  "kernelspec": {
   "display_name": "Python 3.9.10 64-bit (windows store)",
   "language": "python",
   "name": "python3"
  },
  "language_info": {
   "codemirror_mode": {
    "name": "ipython",
    "version": 3
   },
   "file_extension": ".py",
   "mimetype": "text/x-python",
   "name": "python",
   "nbconvert_exporter": "python",
   "pygments_lexer": "ipython3",
   "version": "3.9.10"
  },
  "orig_nbformat": 4
 },
 "nbformat": 4,
 "nbformat_minor": 2
}
